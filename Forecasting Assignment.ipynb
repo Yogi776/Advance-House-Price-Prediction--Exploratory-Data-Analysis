{
 "cells": [
  {
   "cell_type": "code",
   "execution_count": 1,
   "metadata": {},
   "outputs": [],
   "source": [
    "#import Library\n",
    "import pandas as pd\n",
    "import matplotlib.pyplot as plt"
   ]
  },
  {
   "cell_type": "code",
   "execution_count": 2,
   "metadata": {},
   "outputs": [],
   "source": [
    "#import DataSet \n",
    "Electric_Production=pd.read_csv(\"Electric_Production.csv\")"
   ]
  },
  {
   "cell_type": "code",
   "execution_count": 3,
   "metadata": {},
   "outputs": [
    {
     "name": "stdout",
     "output_type": "stream",
     "text": [
      "          DATE  IPG2211A2N\n",
      "0     1/1/1985     72.5052\n",
      "1     2/1/1985     70.6720\n",
      "2     3/1/1985     62.4502\n",
      "3     4/1/1985     57.4714\n",
      "4     5/1/1985     55.3151\n",
      "..         ...         ...\n",
      "392   9/1/2017     98.6154\n",
      "393  10/1/2017     93.6137\n",
      "394  11/1/2017     97.3359\n",
      "395  12/1/2017    114.7212\n",
      "396   1/1/2018    129.4048\n",
      "\n",
      "[397 rows x 2 columns]\n"
     ]
    }
   ],
   "source": [
    "#print DataSet\n",
    "print(Electric_Production)"
   ]
  },
  {
   "cell_type": "code",
   "execution_count": 4,
   "metadata": {},
   "outputs": [
    {
     "data": {
      "text/html": [
       "<div>\n",
       "<style scoped>\n",
       "    .dataframe tbody tr th:only-of-type {\n",
       "        vertical-align: middle;\n",
       "    }\n",
       "\n",
       "    .dataframe tbody tr th {\n",
       "        vertical-align: top;\n",
       "    }\n",
       "\n",
       "    .dataframe thead th {\n",
       "        text-align: right;\n",
       "    }\n",
       "</style>\n",
       "<table border=\"1\" class=\"dataframe\">\n",
       "  <thead>\n",
       "    <tr style=\"text-align: right;\">\n",
       "      <th></th>\n",
       "      <th>DATE</th>\n",
       "      <th>IPG2211A2N</th>\n",
       "    </tr>\n",
       "  </thead>\n",
       "  <tbody>\n",
       "    <tr>\n",
       "      <th>0</th>\n",
       "      <td>1/1/1985</td>\n",
       "      <td>72.5052</td>\n",
       "    </tr>\n",
       "    <tr>\n",
       "      <th>1</th>\n",
       "      <td>2/1/1985</td>\n",
       "      <td>70.6720</td>\n",
       "    </tr>\n",
       "    <tr>\n",
       "      <th>2</th>\n",
       "      <td>3/1/1985</td>\n",
       "      <td>62.4502</td>\n",
       "    </tr>\n",
       "    <tr>\n",
       "      <th>3</th>\n",
       "      <td>4/1/1985</td>\n",
       "      <td>57.4714</td>\n",
       "    </tr>\n",
       "    <tr>\n",
       "      <th>4</th>\n",
       "      <td>5/1/1985</td>\n",
       "      <td>55.3151</td>\n",
       "    </tr>\n",
       "  </tbody>\n",
       "</table>\n",
       "</div>"
      ],
      "text/plain": [
       "       DATE  IPG2211A2N\n",
       "0  1/1/1985     72.5052\n",
       "1  2/1/1985     70.6720\n",
       "2  3/1/1985     62.4502\n",
       "3  4/1/1985     57.4714\n",
       "4  5/1/1985     55.3151"
      ]
     },
     "execution_count": 4,
     "metadata": {},
     "output_type": "execute_result"
    }
   ],
   "source": [
    "Electric_Production.head()"
   ]
  },
  {
   "cell_type": "code",
   "execution_count": 5,
   "metadata": {},
   "outputs": [
    {
     "data": {
      "text/html": [
       "<div>\n",
       "<style scoped>\n",
       "    .dataframe tbody tr th:only-of-type {\n",
       "        vertical-align: middle;\n",
       "    }\n",
       "\n",
       "    .dataframe tbody tr th {\n",
       "        vertical-align: top;\n",
       "    }\n",
       "\n",
       "    .dataframe thead th {\n",
       "        text-align: right;\n",
       "    }\n",
       "</style>\n",
       "<table border=\"1\" class=\"dataframe\">\n",
       "  <thead>\n",
       "    <tr style=\"text-align: right;\">\n",
       "      <th></th>\n",
       "      <th>DATE</th>\n",
       "      <th>IPG2211A2N</th>\n",
       "    </tr>\n",
       "  </thead>\n",
       "  <tbody>\n",
       "    <tr>\n",
       "      <th>392</th>\n",
       "      <td>9/1/2017</td>\n",
       "      <td>98.6154</td>\n",
       "    </tr>\n",
       "    <tr>\n",
       "      <th>393</th>\n",
       "      <td>10/1/2017</td>\n",
       "      <td>93.6137</td>\n",
       "    </tr>\n",
       "    <tr>\n",
       "      <th>394</th>\n",
       "      <td>11/1/2017</td>\n",
       "      <td>97.3359</td>\n",
       "    </tr>\n",
       "    <tr>\n",
       "      <th>395</th>\n",
       "      <td>12/1/2017</td>\n",
       "      <td>114.7212</td>\n",
       "    </tr>\n",
       "    <tr>\n",
       "      <th>396</th>\n",
       "      <td>1/1/2018</td>\n",
       "      <td>129.4048</td>\n",
       "    </tr>\n",
       "  </tbody>\n",
       "</table>\n",
       "</div>"
      ],
      "text/plain": [
       "          DATE  IPG2211A2N\n",
       "392   9/1/2017     98.6154\n",
       "393  10/1/2017     93.6137\n",
       "394  11/1/2017     97.3359\n",
       "395  12/1/2017    114.7212\n",
       "396   1/1/2018    129.4048"
      ]
     },
     "execution_count": 5,
     "metadata": {},
     "output_type": "execute_result"
    }
   ],
   "source": [
    "Electric_Production.tail()"
   ]
  },
  {
   "cell_type": "code",
   "execution_count": 6,
   "metadata": {},
   "outputs": [
    {
     "data": {
      "text/plain": [
       "(397, 2)"
      ]
     },
     "execution_count": 6,
     "metadata": {},
     "output_type": "execute_result"
    }
   ],
   "source": [
    "Electric_Production.shape"
   ]
  },
  {
   "cell_type": "code",
   "execution_count": 7,
   "metadata": {},
   "outputs": [
    {
     "data": {
      "text/html": [
       "<div>\n",
       "<style scoped>\n",
       "    .dataframe tbody tr th:only-of-type {\n",
       "        vertical-align: middle;\n",
       "    }\n",
       "\n",
       "    .dataframe tbody tr th {\n",
       "        vertical-align: top;\n",
       "    }\n",
       "\n",
       "    .dataframe thead th {\n",
       "        text-align: right;\n",
       "    }\n",
       "</style>\n",
       "<table border=\"1\" class=\"dataframe\">\n",
       "  <thead>\n",
       "    <tr style=\"text-align: right;\">\n",
       "      <th></th>\n",
       "      <th>count</th>\n",
       "      <th>mean</th>\n",
       "      <th>std</th>\n",
       "      <th>min</th>\n",
       "      <th>25%</th>\n",
       "      <th>50%</th>\n",
       "      <th>75%</th>\n",
       "      <th>max</th>\n",
       "    </tr>\n",
       "  </thead>\n",
       "  <tbody>\n",
       "    <tr>\n",
       "      <th>IPG2211A2N</th>\n",
       "      <td>397.0</td>\n",
       "      <td>88.847218</td>\n",
       "      <td>15.387834</td>\n",
       "      <td>55.3151</td>\n",
       "      <td>77.1052</td>\n",
       "      <td>89.7795</td>\n",
       "      <td>100.5244</td>\n",
       "      <td>129.4048</td>\n",
       "    </tr>\n",
       "  </tbody>\n",
       "</table>\n",
       "</div>"
      ],
      "text/plain": [
       "            count       mean        std      min      25%      50%       75%  \\\n",
       "IPG2211A2N  397.0  88.847218  15.387834  55.3151  77.1052  89.7795  100.5244   \n",
       "\n",
       "                 max  \n",
       "IPG2211A2N  129.4048  "
      ]
     },
     "execution_count": 7,
     "metadata": {},
     "output_type": "execute_result"
    }
   ],
   "source": [
    "Electric_Production.describe().T"
   ]
  },
  {
   "cell_type": "code",
   "execution_count": 8,
   "metadata": {},
   "outputs": [
    {
     "data": {
      "text/html": [
       "<div>\n",
       "<style scoped>\n",
       "    .dataframe tbody tr th:only-of-type {\n",
       "        vertical-align: middle;\n",
       "    }\n",
       "\n",
       "    .dataframe tbody tr th {\n",
       "        vertical-align: top;\n",
       "    }\n",
       "\n",
       "    .dataframe thead th {\n",
       "        text-align: right;\n",
       "    }\n",
       "</style>\n",
       "<table border=\"1\" class=\"dataframe\">\n",
       "  <thead>\n",
       "    <tr style=\"text-align: right;\">\n",
       "      <th></th>\n",
       "      <th>DATE</th>\n",
       "      <th>IPG2211A2N</th>\n",
       "    </tr>\n",
       "  </thead>\n",
       "  <tbody>\n",
       "    <tr>\n",
       "      <th>0</th>\n",
       "      <td>False</td>\n",
       "      <td>False</td>\n",
       "    </tr>\n",
       "    <tr>\n",
       "      <th>1</th>\n",
       "      <td>False</td>\n",
       "      <td>False</td>\n",
       "    </tr>\n",
       "    <tr>\n",
       "      <th>2</th>\n",
       "      <td>False</td>\n",
       "      <td>False</td>\n",
       "    </tr>\n",
       "    <tr>\n",
       "      <th>3</th>\n",
       "      <td>False</td>\n",
       "      <td>False</td>\n",
       "    </tr>\n",
       "    <tr>\n",
       "      <th>4</th>\n",
       "      <td>False</td>\n",
       "      <td>False</td>\n",
       "    </tr>\n",
       "    <tr>\n",
       "      <th>...</th>\n",
       "      <td>...</td>\n",
       "      <td>...</td>\n",
       "    </tr>\n",
       "    <tr>\n",
       "      <th>392</th>\n",
       "      <td>False</td>\n",
       "      <td>False</td>\n",
       "    </tr>\n",
       "    <tr>\n",
       "      <th>393</th>\n",
       "      <td>False</td>\n",
       "      <td>False</td>\n",
       "    </tr>\n",
       "    <tr>\n",
       "      <th>394</th>\n",
       "      <td>False</td>\n",
       "      <td>False</td>\n",
       "    </tr>\n",
       "    <tr>\n",
       "      <th>395</th>\n",
       "      <td>False</td>\n",
       "      <td>False</td>\n",
       "    </tr>\n",
       "    <tr>\n",
       "      <th>396</th>\n",
       "      <td>False</td>\n",
       "      <td>False</td>\n",
       "    </tr>\n",
       "  </tbody>\n",
       "</table>\n",
       "<p>397 rows × 2 columns</p>\n",
       "</div>"
      ],
      "text/plain": [
       "      DATE  IPG2211A2N\n",
       "0    False       False\n",
       "1    False       False\n",
       "2    False       False\n",
       "3    False       False\n",
       "4    False       False\n",
       "..     ...         ...\n",
       "392  False       False\n",
       "393  False       False\n",
       "394  False       False\n",
       "395  False       False\n",
       "396  False       False\n",
       "\n",
       "[397 rows x 2 columns]"
      ]
     },
     "execution_count": 8,
     "metadata": {},
     "output_type": "execute_result"
    }
   ],
   "source": [
    "Electric_Production.isnull()"
   ]
  },
  {
   "cell_type": "code",
   "execution_count": 9,
   "metadata": {},
   "outputs": [
    {
     "data": {
      "text/plain": [
       "DATE          0\n",
       "IPG2211A2N    0\n",
       "dtype: int64"
      ]
     },
     "execution_count": 9,
     "metadata": {},
     "output_type": "execute_result"
    }
   ],
   "source": [
    "Electric_Production.isnull().sum()"
   ]
  },
  {
   "cell_type": "code",
   "execution_count": 10,
   "metadata": {},
   "outputs": [
    {
     "data": {
      "text/plain": [
       "0"
      ]
     },
     "execution_count": 10,
     "metadata": {},
     "output_type": "execute_result"
    }
   ],
   "source": [
    "Electric_Production.isnull().sum().sum()"
   ]
  },
  {
   "cell_type": "code",
   "execution_count": 11,
   "metadata": {},
   "outputs": [
    {
     "data": {
      "text/plain": [
       "RangeIndex(start=0, stop=397, step=1)"
      ]
     },
     "execution_count": 11,
     "metadata": {},
     "output_type": "execute_result"
    }
   ],
   "source": [
    "Electric_Production.index"
   ]
  },
  {
   "cell_type": "code",
   "execution_count": 12,
   "metadata": {},
   "outputs": [
    {
     "data": {
      "text/plain": [
       "pandas.core.frame.DataFrame"
      ]
     },
     "execution_count": 12,
     "metadata": {},
     "output_type": "execute_result"
    }
   ],
   "source": [
    "type(Electric_Production)"
   ]
  },
  {
   "cell_type": "code",
   "execution_count": 13,
   "metadata": {},
   "outputs": [
    {
     "data": {
      "text/html": [
       "<div>\n",
       "<style scoped>\n",
       "    .dataframe tbody tr th:only-of-type {\n",
       "        vertical-align: middle;\n",
       "    }\n",
       "\n",
       "    .dataframe tbody tr th {\n",
       "        vertical-align: top;\n",
       "    }\n",
       "\n",
       "    .dataframe thead th {\n",
       "        text-align: right;\n",
       "    }\n",
       "</style>\n",
       "<table border=\"1\" class=\"dataframe\">\n",
       "  <thead>\n",
       "    <tr style=\"text-align: right;\">\n",
       "      <th></th>\n",
       "      <th>DATE</th>\n",
       "      <th>IPG2211A2N</th>\n",
       "    </tr>\n",
       "  </thead>\n",
       "  <tbody>\n",
       "    <tr>\n",
       "      <th>0</th>\n",
       "      <td>1/1/1985</td>\n",
       "      <td>72.5052</td>\n",
       "    </tr>\n",
       "    <tr>\n",
       "      <th>1</th>\n",
       "      <td>2/1/1985</td>\n",
       "      <td>70.6720</td>\n",
       "    </tr>\n",
       "    <tr>\n",
       "      <th>2</th>\n",
       "      <td>3/1/1985</td>\n",
       "      <td>62.4502</td>\n",
       "    </tr>\n",
       "    <tr>\n",
       "      <th>3</th>\n",
       "      <td>4/1/1985</td>\n",
       "      <td>57.4714</td>\n",
       "    </tr>\n",
       "    <tr>\n",
       "      <th>4</th>\n",
       "      <td>5/1/1985</td>\n",
       "      <td>55.3151</td>\n",
       "    </tr>\n",
       "    <tr>\n",
       "      <th>...</th>\n",
       "      <td>...</td>\n",
       "      <td>...</td>\n",
       "    </tr>\n",
       "    <tr>\n",
       "      <th>392</th>\n",
       "      <td>9/1/2017</td>\n",
       "      <td>98.6154</td>\n",
       "    </tr>\n",
       "    <tr>\n",
       "      <th>393</th>\n",
       "      <td>10/1/2017</td>\n",
       "      <td>93.6137</td>\n",
       "    </tr>\n",
       "    <tr>\n",
       "      <th>394</th>\n",
       "      <td>11/1/2017</td>\n",
       "      <td>97.3359</td>\n",
       "    </tr>\n",
       "    <tr>\n",
       "      <th>395</th>\n",
       "      <td>12/1/2017</td>\n",
       "      <td>114.7212</td>\n",
       "    </tr>\n",
       "    <tr>\n",
       "      <th>396</th>\n",
       "      <td>1/1/2018</td>\n",
       "      <td>129.4048</td>\n",
       "    </tr>\n",
       "  </tbody>\n",
       "</table>\n",
       "<p>397 rows × 2 columns</p>\n",
       "</div>"
      ],
      "text/plain": [
       "          DATE  IPG2211A2N\n",
       "0     1/1/1985     72.5052\n",
       "1     2/1/1985     70.6720\n",
       "2     3/1/1985     62.4502\n",
       "3     4/1/1985     57.4714\n",
       "4     5/1/1985     55.3151\n",
       "..         ...         ...\n",
       "392   9/1/2017     98.6154\n",
       "393  10/1/2017     93.6137\n",
       "394  11/1/2017     97.3359\n",
       "395  12/1/2017    114.7212\n",
       "396   1/1/2018    129.4048\n",
       "\n",
       "[397 rows x 2 columns]"
      ]
     },
     "execution_count": 13,
     "metadata": {},
     "output_type": "execute_result"
    }
   ],
   "source": [
    "Electric_Production"
   ]
  },
  {
   "cell_type": "code",
   "execution_count": 14,
   "metadata": {},
   "outputs": [],
   "source": [
    "Date=Electric_Production['DATE']"
   ]
  },
  {
   "cell_type": "code",
   "execution_count": 15,
   "metadata": {},
   "outputs": [],
   "source": [
    "bill=Electric_Production['IPG2211A2N']"
   ]
  },
  {
   "cell_type": "code",
   "execution_count": 16,
   "metadata": {
    "scrolled": false
   },
   "outputs": [
    {
     "data": {
      "image/png": "[encoded data removed]",
      "text/plain": [
       "<Figure size 1440x648 with 1 Axes>"
      ]
     },
     "metadata": {
      "needs_background": "light"
     },
     "output_type": "display_data"
    },
    {
     "name": "stdout",
     "output_type": "stream",
     "text": [
      "Electricity Production from 1985 to 2018\n"
     ]
    }
   ],
   "source": [
    "plt.figure(figsize=(20,9))\n",
    "plt.plot(Date,bill,c='r',markersize=2,label='Electricity_bill')\n",
    "plt.xlabel(\"Date\",fontsize=15)\n",
    "plt.ylabel(\"Electricity unit\",fontsize=15)\n",
    "plt.legend(loc=2)\n",
    "plt.show()\n",
    "print(\"Electricity Production from 1985 to 2018\")"
   ]
  },
  {
   "cell_type": "markdown",
   "metadata": {},
   "source": [
    "### we will used group by function because similar date we have difference data so we will mean of all similar data set"
   ]
  },
  {
   "cell_type": "code",
   "execution_count": 17,
   "metadata": {},
   "outputs": [
    {
     "data": {
      "text/html": [
       "<div>\n",
       "<style scoped>\n",
       "    .dataframe tbody tr th:only-of-type {\n",
       "        vertical-align: middle;\n",
       "    }\n",
       "\n",
       "    .dataframe tbody tr th {\n",
       "        vertical-align: top;\n",
       "    }\n",
       "\n",
       "    .dataframe thead th {\n",
       "        text-align: right;\n",
       "    }\n",
       "</style>\n",
       "<table border=\"1\" class=\"dataframe\">\n",
       "  <thead>\n",
       "    <tr style=\"text-align: right;\">\n",
       "      <th></th>\n",
       "      <th>DATE</th>\n",
       "      <th>IPG2211A2N</th>\n",
       "    </tr>\n",
       "  </thead>\n",
       "  <tbody>\n",
       "    <tr>\n",
       "      <th>0</th>\n",
       "      <td>1/1/1985</td>\n",
       "      <td>72.5052</td>\n",
       "    </tr>\n",
       "    <tr>\n",
       "      <th>1</th>\n",
       "      <td>2/1/1985</td>\n",
       "      <td>70.6720</td>\n",
       "    </tr>\n",
       "    <tr>\n",
       "      <th>2</th>\n",
       "      <td>3/1/1985</td>\n",
       "      <td>62.4502</td>\n",
       "    </tr>\n",
       "    <tr>\n",
       "      <th>3</th>\n",
       "      <td>4/1/1985</td>\n",
       "      <td>57.4714</td>\n",
       "    </tr>\n",
       "    <tr>\n",
       "      <th>4</th>\n",
       "      <td>5/1/1985</td>\n",
       "      <td>55.3151</td>\n",
       "    </tr>\n",
       "  </tbody>\n",
       "</table>\n",
       "</div>"
      ],
      "text/plain": [
       "       DATE  IPG2211A2N\n",
       "0  1/1/1985     72.5052\n",
       "1  2/1/1985     70.6720\n",
       "2  3/1/1985     62.4502\n",
       "3  4/1/1985     57.4714\n",
       "4  5/1/1985     55.3151"
      ]
     },
     "execution_count": 17,
     "metadata": {},
     "output_type": "execute_result"
    }
   ],
   "source": [
    "Electric_Production.head()"
   ]
  },
  {
   "cell_type": "code",
   "execution_count": 18,
   "metadata": {},
   "outputs": [],
   "source": [
    "N_Electricity_bill=Electric_Production.groupby(['DATE'])['IPG2211A2N'].mean()"
   ]
  },
  {
   "cell_type": "code",
   "execution_count": 28,
   "metadata": {},
   "outputs": [
    {
     "data": {
      "text/plain": [
       "DATE\n",
       "1/1/1985      72.5052\n",
       "1/1/1986      73.3057\n",
       "1/1/1987      73.8152\n",
       "1/1/1988      79.8703\n",
       "1/1/1989      77.9188\n",
       "1/1/1990      84.3598\n",
       "1/1/1991      86.0214\n",
       "1/1/1992      85.2855\n",
       "1/1/1993      87.9464\n",
       "1/1/1994      94.1386\n",
       "1/1/1995      92.4532\n",
       "1/1/1996      98.9732\n",
       "1/1/1997      98.4613\n",
       "1/1/1998      94.7920\n",
       "1/1/1999     102.1348\n",
       "1/1/2000     102.2301\n",
       "1/1/2001     109.1081\n",
       "1/1/2002     102.9955\n",
       "1/1/2003     110.1807\n",
       "1/1/2004     113.7226\n",
       "1/1/2005     111.1614\n",
       "1/1/2006     104.4724\n",
       "1/1/2007     112.0576\n",
       "1/1/2008     114.8331\n",
       "1/1/2009     116.8316\n",
       "1/1/2010     119.0166\n",
       "1/1/2011     119.4880\n",
       "1/1/2012     111.9646\n",
       "1/1/2013     115.5010\n",
       "1/1/2014     124.2549\n",
       "1/1/2015     120.2696\n",
       "1/1/2016     117.0837\n",
       "1/1/2017     114.8505\n",
       "1/1/2018     129.4048\n",
       "10/1/1985     56.3154\n",
       "10/1/1986     57.5322\n",
       "10/1/1987     60.3789\n",
       "10/1/1988     63.2832\n",
       "10/1/1989     65.8735\n",
       "10/1/1990     67.4365\n",
       "10/1/1991     68.7538\n",
       "10/1/1992     69.0286\n",
       "10/1/1993     69.6810\n",
       "10/1/1994     71.2661\n",
       "10/1/1995     73.7066\n",
       "10/1/1996     74.6891\n",
       "10/1/1997     77.5027\n",
       "10/1/1998     80.0924\n",
       "10/1/1999     80.6409\n",
       "10/1/2000     83.1408\n",
       "10/1/2001     82.6860\n",
       "10/1/2002     86.9002\n",
       "10/1/2003     86.5047\n",
       "10/1/2004     87.5262\n",
       "10/1/2005     89.7567\n",
       "10/1/2006     90.3738\n",
       "10/1/2007     93.0068\n",
       "10/1/2008     90.9979\n",
       "10/1/2009     89.2977\n",
       "10/1/2010     88.9251\n",
       "Name: IPG2211A2N, dtype: float64"
      ]
     },
     "execution_count": 28,
     "metadata": {},
     "output_type": "execute_result"
    }
   ],
   "source": [
    "N_Electricity_bill.head(60)"
   ]
  },
  {
   "cell_type": "code",
   "execution_count": 21,
   "metadata": {},
   "outputs": [
    {
     "data": {
      "text/plain": [
       "(397,)"
      ]
     },
     "execution_count": 21,
     "metadata": {},
     "output_type": "execute_result"
    }
   ],
   "source": [
    "N_Electricity_bill.shape"
   ]
  },
  {
   "cell_type": "code",
   "execution_count": 29,
   "metadata": {},
   "outputs": [
    {
     "data": {
      "text/plain": [
       "DATE\n",
       "8/1/2011    113.5958\n",
       "8/1/2012    109.8601\n",
       "8/1/2013    108.1756\n",
       "8/1/2014    108.1940\n",
       "8/1/2015    110.5925\n",
       "8/1/2016    115.5159\n",
       "8/1/2017    108.9312\n",
       "9/1/1985     60.5846\n",
       "9/1/1986     61.0005\n",
       "9/1/1987     64.1151\n",
       "9/1/1988     67.5152\n",
       "9/1/1989     69.3053\n",
       "9/1/1990     73.0610\n",
       "9/1/1991     73.5743\n",
       "9/1/1992     72.3541\n",
       "9/1/1993     74.6031\n",
       "9/1/1994     75.6826\n",
       "9/1/1995     78.5035\n",
       "9/1/1996     79.1919\n",
       "9/1/1997     81.9386\n",
       "9/1/1998     87.5414\n",
       "9/1/1999     87.2248\n",
       "9/1/2000     90.9178\n",
       "9/1/2001     88.2810\n",
       "9/1/2002     93.3089\n",
       "9/1/2003     92.9135\n",
       "9/1/2004     94.0240\n",
       "9/1/2005     99.1155\n",
       "9/1/2006     95.7632\n",
       "9/1/2007    101.5316\n",
       "9/1/2008     97.7183\n",
       "9/1/2009     94.8823\n",
       "9/1/2010    100.1209\n",
       "9/1/2011     99.4712\n",
       "9/1/2012     96.7431\n",
       "9/1/2013     99.2809\n",
       "9/1/2014    100.4172\n",
       "9/1/2015    101.9204\n",
       "9/1/2016    102.7637\n",
       "9/1/2017     98.6154\n",
       "Name: IPG2211A2N, dtype: float64"
      ]
     },
     "execution_count": 29,
     "metadata": {},
     "output_type": "execute_result"
    }
   ],
   "source": [
    "N_Electricity_bill.tail(40)"
   ]
  },
  {
   "cell_type": "markdown",
   "metadata": {},
   "source": [
    "# Let Consider Last 20 year data Set"
   ]
  },
  {
   "cell_type": "code",
   "execution_count": null,
   "metadata": {},
   "outputs": [],
   "source": [
    "last_20_year=N_Electricity_bill.tail(20)"
   ]
  },
  {
   "cell_type": "code",
   "execution_count": null,
   "metadata": {},
   "outputs": [],
   "source": [
    "last_20_year"
   ]
  },
  {
   "cell_type": "code",
   "execution_count": null,
   "metadata": {},
   "outputs": [],
   "source": [
    "plt.figure(figsize=(25,15))\n",
    "plt.plot(last_20_year,c='g',markersize=10,linewidth=2,marker='>',label='Electricity_bill')\n",
    "plt.title(\"Last 20 year Data Set of Electricity\",fontsize=25)\n",
    "plt.xlabel(\"year\",fontsize=20)\n",
    "plt.ylabel(\"Electricity Unit\",fontsize=20)\n",
    "plt.grid(True,c='r',linestyle='--',linewidth=2)\n",
    "plt.legend(loc=2,fontsize=20)\n",
    "plt.show()"
   ]
  },
  {
   "cell_type": "markdown",
   "metadata": {},
   "source": [
    "# Moving Average"
   ]
  },
  {
   "cell_type": "code",
   "execution_count": null,
   "metadata": {},
   "outputs": [],
   "source": [
    "last_20_year"
   ]
  },
  {
   "cell_type": "code",
   "execution_count": null,
   "metadata": {},
   "outputs": [],
   "source": [
    "last_20_year.rolling(window=2).mean()"
   ]
  },
  {
   "cell_type": "code",
   "execution_count": null,
   "metadata": {},
   "outputs": [],
   "source": [
    "last_20_year.rolling(window=3).mean()"
   ]
  },
  {
   "cell_type": "code",
   "execution_count": null,
   "metadata": {},
   "outputs": [],
   "source": [
    "last_20_year"
   ]
  },
  {
   "cell_type": "code",
   "execution_count": null,
   "metadata": {},
   "outputs": [],
   "source": [
    "plt.figure(figsize=(22,15))\n",
    "plt.plot(last_20_year,c='r',label='last_20_year',linewidth=3)\n",
    "plt.plot(last_20_year.rolling(window=2).mean(),c='g',label='SMA 2 year',linewidth=4)\n",
    "plt.plot(last_20_year.rolling(window=3).mean(),c='b',label='SMA 3 year',linewidth=5)\n",
    "plt.grid(True,c='g',linestyle='--',linewidth=2)\n",
    "plt.legend(loc=2,fontsize=15)\n",
    "plt.show()"
   ]
  },
  {
   "cell_type": "code",
   "execution_count": null,
   "metadata": {},
   "outputs": [],
   "source": [
    "from statsmodels.tsa.api import ExponentialSmoothing, SimpleExpSmoothing,Holt"
   ]
  },
  {
   "cell_type": "markdown",
   "metadata": {},
   "source": [
    "# Holt's Method"
   ]
  },
  {
   "cell_type": "code",
   "execution_count": null,
   "metadata": {},
   "outputs": [],
   "source": [
    "# Air pollution data\n",
    "data = [17.55, 21.86, 23.89, 26.93, 26.8885, 28.83, 30.0751, 30.9535, 30.1857, 31.5797, 32.5776, 33.4774, 39.0216, 41.39, 41.60]\n",
    "index= pd.date_range(start='1990', end='2005', freq='A')\n",
    "air = pd.Series(data, index)"
   ]
  },
  {
   "cell_type": "code",
   "execution_count": null,
   "metadata": {},
   "outputs": [],
   "source": [
    "air"
   ]
  },
  {
   "cell_type": "code",
   "execution_count": null,
   "metadata": {},
   "outputs": [],
   "source": [
    "plt.figure(figsize=[15,10])\n",
    "plt.grid(True)\n",
    "plt.plot(air,label='data')\n",
    "plt.legend(loc=2)\n",
    "plt.show()"
   ]
  },
  {
   "cell_type": "markdown",
   "metadata": {},
   "source": [
    "# Linear Trend"
   ]
  },
  {
   "cell_type": "code",
   "execution_count": null,
   "metadata": {},
   "outputs": [],
   "source": [
    "import warnings"
   ]
  },
  {
   "cell_type": "code",
   "execution_count": null,
   "metadata": {},
   "outputs": [],
   "source": [
    "fit1 = Holt(air).fit(smoothing_level=0.8, smoothing_trend=0.2, optimized=False,)"
   ]
  },
  {
   "cell_type": "code",
   "execution_count": null,
   "metadata": {},
   "outputs": [],
   "source": [
    "fit1.fittedvalues"
   ]
  },
  {
   "cell_type": "code",
   "execution_count": null,
   "metadata": {},
   "outputs": [],
   "source": [
    "fcast1 = fit1.forecast(5).rename(\"Holt's linear trend\")\n",
    "fcast1"
   ]
  },
  {
   "cell_type": "markdown",
   "metadata": {},
   "source": [
    "# Exponential Trend"
   ]
  },
  {
   "cell_type": "code",
   "execution_count": null,
   "metadata": {},
   "outputs": [],
   "source": [
    "fit2 = Holt(air, exponential=True).fit(smoothing_level=0.8, smoothing_trend=0.2, optimized=False)"
   ]
  },
  {
   "cell_type": "code",
   "execution_count": null,
   "metadata": {},
   "outputs": [],
   "source": [
    "fit2.fittedvalues"
   ]
  },
  {
   "cell_type": "code",
   "execution_count": null,
   "metadata": {},
   "outputs": [],
   "source": [
    "fcast2 = fit2.forecast(5).rename(\"Exponential trend\")\n",
    "fcast2"
   ]
  },
  {
   "cell_type": "markdown",
   "metadata": {},
   "source": [
    "# Additive Damped trend"
   ]
  },
  {
   "cell_type": "code",
   "execution_count": null,
   "metadata": {},
   "outputs": [],
   "source": [
    "fit3 = Holt(air, damped_trend=True).fit(smoothing_level=0.8, smoothing_trend=0.2)\n",
    "fcast3 = fit3.forecast(17).rename(\"Additive damped trend\")"
   ]
  },
  {
   "cell_type": "code",
   "execution_count": null,
   "metadata": {},
   "outputs": [],
   "source": [
    "fcast3"
   ]
  },
  {
   "cell_type": "code",
   "execution_count": null,
   "metadata": {},
   "outputs": [],
   "source": [
    "# Holt's Method: Compare Model-1, 2 and 3 based on AIC, AICc, and BIC\n",
    "model1fit = fit1.aic,fit1.aicc,fit1.bic\n",
    "model2fit = fit2.aic,fit2.aicc,fit2.bic\n",
    "model3fit = fit3.aic,fit3.aicc,fit3.bic\n",
    "\n",
    "results=(pd.DataFrame(index=[\"AIC\",\"AICc\",\"BIC\"] ,columns=['Model-1', \"Model-2\",\"Model-3\"]))\n",
    "results[\"Model-1\"] = model1fit\n",
    "results[\"Model-2\"] = model2fit\n",
    "results[\"Model-3\"] = model3fit\n",
    "results"
   ]
  },
  {
   "cell_type": "code",
   "execution_count": null,
   "metadata": {},
   "outputs": [],
   "source": [
    "plt.figure(figsize=[20,15])\n",
    "plt.grid(True,c='r',linestyle='--',linewidth=2)\n",
    "\n",
    "# Actucal data\n",
    "plt.plot(air,label='data',color='black',marker='o')\n",
    "\n",
    "# Holt's Linear Trend\n",
    "plt.plot(fcast1,label='H-Linear_Trend',color='red',marker='o')\n",
    "plt.plot(fit1.fittedvalues,color='red',marker='o')\n",
    "\n",
    "# Holt's exponential Trend\n",
    "plt.plot(fcast2,label='H-Exponential_Trend',color='green',marker='o')\n",
    "plt.plot(fit2.fittedvalues,color='green',marker='o')\n",
    "\n",
    "# Holt's additive damped trend\n",
    "plt.plot(fcast3,label='H-Additive_Damped_Trend',color='blue',marker='o')\n",
    "plt.plot(fit3.fittedvalues,color='blue',marker='o')\n",
    "\n",
    "plt.legend(loc=2)\n",
    "plt.show()"
   ]
  },
  {
   "cell_type": "markdown",
   "metadata": {},
   "source": [
    "# Seasonal Decomposition"
   ]
  },
  {
   "cell_type": "code",
   "execution_count": null,
   "metadata": {},
   "outputs": [],
   "source": [
    "# Air pollution data\n",
    "data =pd.read_csv(\"data.csv\")\n",
    "index= pd.date_range(start='1990', end='2013', freq='A')\n"
   ]
  },
  {
   "cell_type": "code",
   "execution_count": null,
   "metadata": {},
   "outputs": [],
   "source": [
    "index"
   ]
  },
  {
   "cell_type": "code",
   "execution_count": null,
   "metadata": {},
   "outputs": [],
   "source": []
  }
 ],
 "metadata": {
  "kernelspec": {
   "display_name": "Python 3",
   "language": "python",
   "name": "python3"
  },
  "language_info": {
   "codemirror_mode": {
    "name": "ipython",
    "version": 3
   },
   "file_extension": ".py",
   "mimetype": "text/x-python",
   "name": "python",
   "nbconvert_exporter": "python",
   "pygments_lexer": "ipython3",
   "version": "3.8.5"
  }
 },
 "nbformat": 4,
 "nbformat_minor": 4
}
